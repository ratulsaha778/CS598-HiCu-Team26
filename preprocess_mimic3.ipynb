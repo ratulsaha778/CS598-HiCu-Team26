{
 "cells": [
  {
   "cell_type": "code",
   "execution_count": 4,
   "metadata": {},
   "outputs": [
    {
     "name": "stderr",
     "output_type": "stream",
     "text": [
      "usage: ipykernel_launcher.py [-h] [--MODEL_DIR MODEL_DIR] [--DATA_DIR DATA_DIR] [--MIMIC_3_DIR MIMIC_3_DIR]\n",
      "                             [--MIMIC_2_DIR MIMIC_2_DIR] [--data_path DATA_PATH] [--vocab VOCAB] [--Y {full,50}]\n",
      "                             [--version {mimic2,mimic3}] [--MAX_LENGTH MAX_LENGTH]\n",
      "                             [--model {MultiResCNN,longformer,RACReader,LAAT}]\n",
      "                             [--decoder {HierarchicalHyperbolic,Hierarchical,LAATHierarchicalHyperbolic,LAATHierarchical,CodeTitle,RandomlyInitialized,LAATDecoder}]\n",
      "                             [--filter_size FILTER_SIZE] [--num_filter_maps NUM_FILTER_MAPS] [--conv_layer CONV_LAYER]\n",
      "                             [--embed_file EMBED_FILE] [--hyperbolic_dim HYPERBOLIC_DIM] [--test_model TEST_MODEL]\n",
      "                             [--use_ext_emb] [--cat_hyperbolic] [--loss {BCE,ASL,ASLO}] [--asl_config ASL_CONFIG]\n",
      "                             [--asl_reduction {mean,sum}] [--n_epochs N_EPOCHS] [--depth DEPTH] [--dropout DROPOUT]\n",
      "                             [--patience PATIENCE] [--batch_size BATCH_SIZE] [--lr LR] [--weight_decay WEIGHT_DECAY]\n",
      "                             [--criterion {prec_at_8,f1_micro,prec_at_5}] [--gpu GPU] [--num_workers NUM_WORKERS]\n",
      "                             [--tune_wordemb] [--random_seed RANDOM_SEED] [--thres THRES]\n",
      "                             [--longformer_dir LONGFORMER_DIR] [--reader_conv_num READER_CONV_NUM]\n",
      "                             [--reader_trans_num READER_TRANS_NUM] [--trans_ff_dim TRANS_FF_DIM]\n",
      "                             [--num_code_title_tokens NUM_CODE_TITLE_TOKENS]\n",
      "                             [--code_title_filter_size CODE_TITLE_FILTER_SIZE] [--lstm_hidden_dim LSTM_HIDDEN_DIM]\n",
      "                             [--attn_dim ATTN_DIM] [--scheduler SCHEDULER] [--scheduler_patience SCHEDULER_PATIENCE]\n",
      "ipykernel_launcher.py: error: unrecognized arguments: -f C:\\Users\\SAHARX3\\AppData\\Roaming\\jupyter\\runtime\\kernel-ba0ad3ce-8c01-43c9-9c73-2c6cfa388593.json\n"
     ]
    },
    {
     "ename": "SystemExit",
     "evalue": "2",
     "output_type": "error",
     "traceback": [
      "An exception has occurred, use %tb to see the full traceback.\n",
      "\u001b[1;31mSystemExit\u001b[0m\u001b[1;31m:\u001b[0m 2\n"
     ]
    }
   ],
   "source": [
    "import pandas as pd\n",
    "from collections import Counter, defaultdict\n",
    "import csv\n",
    "import operator\n",
    "from utils.options import args\n",
    "#from utils.utils import build_vocab, word_embeddings, fasttext_embeddings, gensim_to_fasttext_embeddings\n",
    "#from utils.utils import gensim_to_embeddings, reformat, write_discharge_summaries, concat_data, split_data\n",
    "\n"
   ]
  },
  {
   "cell_type": "code",
   "execution_count": 5,
   "metadata": {},
   "outputs": [],
   "source": [
    "Y = 'full'\n",
    "notes_file = '%s/NOTEEVENTS.csv' % args.MIMIC_3_DIR\n",
    "\n",
    "# step 1: process code-related files\n",
    "dfproc = pd.read_csv('%s/PROCEDURES_ICD.csv' % args.MIMIC_3_DIR)\n",
    "dfdiag = pd.read_csv('%s/DIAGNOSES_ICD.csv' % args.MIMIC_3_DIR)\n",
    "\n",
    "dfdiag['absolute_code'] = dfdiag.apply(lambda row: str(reformat(str(row[4]), True)), axis=1)\n",
    "dfproc['absolute_code'] = dfproc.apply(lambda row: str(reformat(str(row[4]), False)), axis=1)\n",
    "\n",
    "dfcodes = pd.concat([dfdiag, dfproc])\n",
    "\n",
    "dfcodes.to_csv('%s/ALL_CODES.csv' % args.MIMIC_3_DIR, index=False,\n",
    "               columns=['ROW_ID', 'SUBJECT_ID', 'HADM_ID', 'SEQ_NUM', 'absolute_code'],\n",
    "               header=['ROW_ID', 'SUBJECT_ID', 'HADM_ID', 'SEQ_NUM', 'ICD9_CODE'])\n",
    "\n",
    "df = pd.read_csv('%s/ALL_CODES.csv' % args.MIMIC_3_DIR, dtype={\"ICD9_CODE\": str})\n",
    "print(\"unique ICD9 code: {}\".format(len(df['ICD9_CODE'].unique())))"
   ]
  },
  {
   "cell_type": "code",
   "execution_count": null,
   "metadata": {},
   "outputs": [],
   "source": []
  }
 ],
 "metadata": {
  "kernelspec": {
   "display_name": "Python 3",
   "language": "python",
   "name": "python3"
  },
  "language_info": {
   "codemirror_mode": {
    "name": "ipython",
    "version": 3
   },
   "file_extension": ".py",
   "mimetype": "text/x-python",
   "name": "python",
   "nbconvert_exporter": "python",
   "pygments_lexer": "ipython3",
   "version": "3.8.3"
  }
 },
 "nbformat": 4,
 "nbformat_minor": 4
}
